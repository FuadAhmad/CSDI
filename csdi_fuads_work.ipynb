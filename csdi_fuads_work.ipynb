{
 "cells": [
  {
   "cell_type": "code",
   "execution_count": 1,
   "id": "0462661c-baf0-4b0e-83b2-8941e42c93c4",
   "metadata": {
    "tags": []
   },
   "outputs": [],
   "source": [
    "#!pip install torch\n",
    "#!pip install linear_attention_transformer"
   ]
  },
  {
   "cell_type": "code",
   "execution_count": 2,
   "id": "895993cb-c184-417b-b848-4f52016cb031",
   "metadata": {},
   "outputs": [
    {
     "name": "stdout",
     "output_type": "stream",
     "text": [
      "tensor([[0.3375, 0.9379, 0.0240],\n",
      "        [0.4986, 0.6026, 0.4952],\n",
      "        [0.4858, 0.5134, 0.3819],\n",
      "        [0.3687, 0.0606, 0.2283],\n",
      "        [0.8407, 0.3845, 0.0461]])\n"
     ]
    }
   ],
   "source": [
    "import torch\n",
    "\n",
    "x = torch.rand(5, 3)\n",
    "print(x)"
   ]
  },
  {
   "cell_type": "code",
   "execution_count": 3,
   "id": "3a828348-0abe-4297-91bd-57dbdcda6bec",
   "metadata": {},
   "outputs": [],
   "source": [
    "import argparse\n",
    "import torch\n",
    "import datetime\n",
    "import json\n",
    "import yaml\n",
    "import os\n",
    "import pandas as pd\n",
    "import pickle\n",
    "\n",
    "from dataset_pm25 import get_dataloader\n",
    "from main_model import CSDI_PM25\n",
    "from utils import train, evaluate"
   ]
  },
  {
   "cell_type": "code",
   "execution_count": 4,
   "id": "efb9595e-e5d1-4c06-a9c5-f578d71baa7c",
   "metadata": {},
   "outputs": [],
   "source": [
    "parser = argparse.ArgumentParser(description=\"CSDI\")\n"
   ]
  },
  {
   "cell_type": "code",
   "execution_count": 5,
   "id": "381dae72-7518-4dec-abfc-10c2343b94c5",
   "metadata": {},
   "outputs": [
    {
     "data": {
      "text/plain": [
       "_StoreTrueAction(option_strings=['--unconditional'], dest='unconditional', nargs=0, const=True, default=False, type=None, choices=None, required=False, help=None, metavar=None)"
      ]
     },
     "execution_count": 5,
     "metadata": {},
     "output_type": "execute_result"
    }
   ],
   "source": [
    "parser.add_argument(\"--config\", type=str, default=\"base.yaml\")\n",
    "parser.add_argument('--device', default='cuda:0', help='Device for Attack')\n",
    "parser.add_argument(\"--modelfolder\", type=str, default=\"\")\n",
    "parser.add_argument(\n",
    "    \"--targetstrategy\", type=str, default=\"mix\", choices=[\"mix\", \"random\", \"historical\"]\n",
    ")\n",
    "parser.add_argument(\n",
    "    \"--validationindex\", type=int, default=0, help=\"index of month used for validation (value:[0-7])\"\n",
    ")\n",
    "parser.add_argument(\"--nsample\", type=int, default=100)\n",
    "parser.add_argument(\"--unconditional\", action=\"store_true\")"
   ]
  },
  {
   "cell_type": "code",
   "execution_count": null,
   "id": "03db8241-9007-4ee3-bb48-8cbc8601b790",
   "metadata": {},
   "outputs": [],
   "source": [
    "args = parser.parse_args()\n",
    "print(args)"
   ]
  },
  {
   "cell_type": "code",
   "execution_count": null,
   "id": "a140e179-d1db-4a13-8d52-ba70d947e02e",
   "metadata": {},
   "outputs": [],
   "source": [
    "path = \"config/\" + args.config\n",
    "with open(path, \"r\") as f:\n",
    "    config = yaml.safe_load(f)\n",
    "\n",
    "config[\"model\"][\"is_unconditional\"] = args.unconditional\n",
    "config[\"model\"][\"target_strategy\"] = args.targetstrategy\n",
    "\n",
    "print(json.dumps(config, indent=4))"
   ]
  },
  {
   "cell_type": "code",
   "execution_count": 14,
   "id": "93564cbd-f540-4b42-a5b4-ccf5073c9823",
   "metadata": {
    "tags": []
   },
   "outputs": [
    {
     "ename": "TypeError",
     "evalue": "object of type 'float' has no len()",
     "output_type": "error",
     "traceback": [
      "\u001b[1;31m---------------------------------------------------------------------------\u001b[0m",
      "\u001b[1;31mTypeError\u001b[0m                                 Traceback (most recent call last)",
      "Cell \u001b[1;32mIn[14], line 6\u001b[0m\n\u001b[0;32m      4\u001b[0m \u001b[38;5;28;01mwith\u001b[39;00m \u001b[38;5;28mopen\u001b[39m(path, \u001b[38;5;124m'\u001b[39m\u001b[38;5;124mrb\u001b[39m\u001b[38;5;124m'\u001b[39m) \u001b[38;5;28;01mas\u001b[39;00m f:\n\u001b[0;32m      5\u001b[0m     a,b,data \u001b[38;5;241m=\u001b[39m pickle\u001b[38;5;241m.\u001b[39mload(f)\n\u001b[1;32m----> 6\u001b[0m \u001b[38;5;28mlen\u001b[39m(data)\n",
      "\u001b[1;31mTypeError\u001b[0m: object of type 'float' has no len()"
     ]
    }
   ],
   "source": [
    "import pickle\n",
    "path = \"./save/physio_fold0_20231214_102050/result_nsample100.pk\"\n",
    "\n",
    "with open(path, 'rb') as f:\n",
    "    data = pickle.load(f)\n",
    "len(data)"
   ]
  },
  {
   "cell_type": "markdown",
   "id": "1cf2f375-49be-408f-893f-adba535b95bc",
   "metadata": {},
   "source": [
    "### diff_models.py"
   ]
  },
  {
   "cell_type": "code",
   "execution_count": 41,
   "id": "b41bf1d7-ae01-4921-bf14-a30b9e691232",
   "metadata": {
    "tags": []
   },
   "outputs": [],
   "source": [
    "import torch\n",
    "import torch.nn as nn\n",
    "import torch.nn.functional as F\n",
    "import math\n",
    "from linear_attention_transformer import LinearAttentionTransformer"
   ]
  },
  {
   "cell_type": "code",
   "execution_count": 49,
   "id": "3039fd02-2f4b-4c7c-b6d8-0236c67c2795",
   "metadata": {
    "tags": []
   },
   "outputs": [
    {
     "data": {
      "text/plain": [
       "torch.Size([2, 12])"
      ]
     },
     "execution_count": 49,
     "metadata": {},
     "output_type": "execute_result"
    }
   ],
   "source": [
    "encoder_layer = nn.TransformerEncoderLayer(d_model=12, nhead=4)#(d_model=512, nhead=8)\n",
    "src = torch.rand(2, 12)#(10, 32, 512)\n",
    "out = encoder_layer(src)\n",
    "out.shape"
   ]
  },
  {
   "cell_type": "code",
   "execution_count": 76,
   "id": "154f02bc-fb66-4eca-b542-6cc1c50535e8",
   "metadata": {
    "tags": []
   },
   "outputs": [
    {
     "data": {
      "text/plain": [
       "tensor([[-0.1504,  0.0428, -0.0728, -0.2478],\n",
       "        [ 0.3320,  0.0067,  0.5985,  1.3924],\n",
       "        [ 0.3325, -0.1921, -0.2349, -1.3469],\n",
       "        [ 0.1613,  0.9429, -0.0842, -0.0162],\n",
       "        [-0.9061,  0.3163, -0.1874,  0.0337],\n",
       "        [-0.3652, -1.0756,  0.0202,  0.0615],\n",
       "        [ 0.5361, -0.4711,  0.0927, -0.8282],\n",
       "        [-0.0484,  0.8927,  0.1962,  0.6073]], grad_fn=<AddmmBackward0>)"
      ]
     },
     "execution_count": 76,
     "metadata": {},
     "output_type": "execute_result"
    }
   ],
   "source": [
    "output"
   ]
  },
  {
   "cell_type": "code",
   "execution_count": 75,
   "id": "4e4aef53-c866-410b-b31b-d03d1432b822",
   "metadata": {
    "collapsed": true,
    "jupyter": {
     "outputs_hidden": true
    },
    "tags": []
   },
   "outputs": [
    {
     "data": {
      "text/plain": [
       "tensor([[ 1.4522e+00, -5.0238e-01, -9.2040e-02, -3.2107e-01, -6.6403e-01,\n",
       "          1.2625e+00,  6.2727e-01,  1.2717e-01, -9.1781e-02,  1.1118e+00,\n",
       "          4.8078e-01,  1.2757e+00,  1.9440e+00, -8.5097e-01, -1.9015e+00,\n",
       "         -3.2794e-01,  4.9607e-01, -6.5903e-01, -6.4518e-01, -6.8441e-01],\n",
       "        [ 5.8111e-01,  1.3220e+00,  5.2975e-01,  5.8605e-01,  1.1645e+00,\n",
       "          1.2540e+00, -1.9555e+00,  1.0212e+00,  9.3883e-01, -8.1269e-01,\n",
       "         -2.7982e-01, -6.6191e-01,  1.1249e+00,  1.4820e+00, -3.1874e-01,\n",
       "          4.9248e-01, -5.0919e-01,  1.0447e+00,  1.6128e+00,  7.5718e-01],\n",
       "        [ 1.0264e+00,  9.8663e-01,  4.5151e-01, -1.5656e+00, -1.0930e+00,\n",
       "          1.2019e-01,  1.3945e+00, -1.2076e+00,  1.5504e-01, -1.2655e+00,\n",
       "         -8.0773e-01, -1.4208e-01,  4.0462e-01, -1.7291e+00,  1.7125e-02,\n",
       "         -2.3290e+00, -6.0739e-01, -2.3328e+00, -8.6013e-01,  1.1981e-01],\n",
       "        [-4.7601e-01,  3.1856e-02, -9.1094e-01,  9.8097e-01,  5.8880e-01,\n",
       "         -1.3210e+00, -1.6180e+00, -1.2258e+00,  1.1269e+00,  2.1003e+00,\n",
       "          9.9104e-01, -7.7379e-01, -1.6697e-02,  3.8587e-01, -1.3625e+00,\n",
       "          2.2754e-01,  6.3298e-01, -2.8078e-01, -3.4656e-01, -6.6414e-01],\n",
       "        [ 1.1275e+00,  6.3470e-01, -2.2076e+00,  9.2935e-01, -4.7698e-01,\n",
       "         -4.9217e-01, -3.5342e-01,  2.0490e-03,  1.1846e-01,  1.4642e+00,\n",
       "          1.2750e+00,  4.8686e-01,  1.4387e-01, -9.0202e-01,  2.6978e-01,\n",
       "         -4.3334e-01, -5.2288e-01,  2.1803e-01, -6.3268e-01,  2.6950e-01],\n",
       "        [ 1.2387e-01, -9.4985e-01,  1.9288e-01, -6.8505e-01, -3.1192e-01,\n",
       "          1.6443e+00,  3.7133e-01, -1.1729e+00, -5.7027e-02, -7.4042e-01,\n",
       "          3.7316e-01,  1.9772e+00,  1.1048e+00, -5.8329e-01, -5.8420e-01,\n",
       "         -6.6968e-02, -6.0656e-01,  1.4296e+00,  4.4454e-02,  6.8604e-01],\n",
       "        [-2.5457e+00, -2.1288e+00,  2.9920e-01,  2.0999e-01, -5.6509e-02,\n",
       "         -4.2378e-01, -1.7614e+00, -1.7715e+00,  9.4046e-01, -1.1820e+00,\n",
       "         -1.4325e-01,  6.1089e-01, -1.3067e+00, -1.1626e+00,  2.7087e-01,\n",
       "          1.0079e+00,  8.1309e-01,  9.6583e-01, -6.1552e-01,  6.0766e-01],\n",
       "        [ 1.3384e+00, -6.3811e-01,  2.0499e-01, -3.5977e-01,  1.2376e+00,\n",
       "         -6.2130e-02, -8.2880e-01,  1.8683e-01, -1.4117e-01, -4.7691e-01,\n",
       "         -1.0643e+00, -7.5755e-01, -2.2199e+00,  8.5211e-01,  1.4373e-01,\n",
       "         -1.8687e+00, -1.2919e+00,  1.0147e+00, -1.2143e+00,  1.5570e+00]])"
      ]
     },
     "execution_count": 75,
     "metadata": {},
     "output_type": "execute_result"
    }
   ],
   "source": [
    "input"
   ]
  },
  {
   "cell_type": "code",
   "execution_count": 74,
   "id": "159b7d24-b8ae-46df-a98a-bc4f5da53bc9",
   "metadata": {
    "tags": []
   },
   "outputs": [
    {
     "name": "stdout",
     "output_type": "stream",
     "text": [
      "torch.Size([8, 4])\n"
     ]
    }
   ],
   "source": [
    "m = nn.Linear(20, 4)\n",
    "input = torch.randn(8, 20)\n",
    "output = m(input)\n",
    "print(output.size())"
   ]
  },
  {
   "cell_type": "code",
   "execution_count": 67,
   "id": "a9fdc033-cf9d-4c83-a146-452d21d50aa4",
   "metadata": {
    "tags": []
   },
   "outputs": [],
   "source": [
    "m = nn.Conv1d(4, 33, 3, stride=2)\n",
    "input = torch.randn(2, 4, 4)\n",
    "output = m(input)"
   ]
  },
  {
   "cell_type": "code",
   "execution_count": 17,
   "id": "47f457fb-bf1d-4f25-89bd-d51a1bbd9b31",
   "metadata": {
    "tags": []
   },
   "outputs": [],
   "source": [
    "def _build_embedding(self, num_steps, dim=64):\n",
    "    steps = torch.arange(num_steps).unsqueeze(1)  # (T,1)\n",
    "    frequencies = 10.0 ** (torch.arange(dim) / (dim - 1) * 4.0).unsqueeze(0)  # (1,dim)\n",
    "    table = steps * frequencies  # (T,dim)\n",
    "    table = torch.cat([torch.sin(table), torch.cos(table)], dim=1)  # (T,dim*2)\n",
    "    return table\n"
   ]
  },
  {
   "cell_type": "code",
   "execution_count": 29,
   "id": "fa5649da-1bde-40cf-aaeb-0674a67de678",
   "metadata": {
    "tags": []
   },
   "outputs": [
    {
     "data": {
      "text/plain": [
       "tensor([[0],\n",
       "        [1],\n",
       "        [2],\n",
       "        [3],\n",
       "        [4],\n",
       "        [5],\n",
       "        [6],\n",
       "        [7],\n",
       "        [8],\n",
       "        [9]])"
      ]
     },
     "execution_count": 29,
     "metadata": {},
     "output_type": "execute_result"
    }
   ],
   "source": [
    "num_steps=10 #100\n",
    "dim=4 # 64\n",
    "steps = torch.arange(num_steps).unsqueeze(1)\n",
    "steps"
   ]
  },
  {
   "cell_type": "code",
   "execution_count": 34,
   "id": "f59bb48b-d2e2-4b9c-bced-b11f29648477",
   "metadata": {
    "tags": []
   },
   "outputs": [
    {
     "data": {
      "text/plain": [
       "tensor([0.0000, 0.3333, 0.6667, 1.0000])"
      ]
     },
     "execution_count": 34,
     "metadata": {},
     "output_type": "execute_result"
    }
   ],
   "source": [
    "torch.arange(dim) / (dim - 1)"
   ]
  },
  {
   "cell_type": "code",
   "execution_count": 33,
   "id": "6ff46383-2a1d-4dcf-9872-96bbc52e4c68",
   "metadata": {
    "tags": []
   },
   "outputs": [
    {
     "data": {
      "text/plain": [
       "tensor([0.0000, 1.3333, 2.6667, 4.0000])"
      ]
     },
     "execution_count": 33,
     "metadata": {},
     "output_type": "execute_result"
    }
   ],
   "source": [
    "(torch.arange(dim) / (dim - 1) * 4.0)"
   ]
  },
  {
   "cell_type": "code",
   "execution_count": 32,
   "id": "75a42976-141b-46e9-a28e-fb1ee26a79f6",
   "metadata": {
    "tags": []
   },
   "outputs": [
    {
     "data": {
      "text/plain": [
       "tensor([1.0000e+00, 2.1544e+01, 4.6416e+02, 1.0000e+04])"
      ]
     },
     "execution_count": 32,
     "metadata": {},
     "output_type": "execute_result"
    }
   ],
   "source": [
    "10.0 ** (torch.arange(dim) / (dim - 1) * 4.0)"
   ]
  },
  {
   "cell_type": "code",
   "execution_count": 30,
   "id": "37693dba-0cb3-43d9-9e42-f0a4c1cb0033",
   "metadata": {
    "tags": []
   },
   "outputs": [
    {
     "data": {
      "text/plain": [
       "tensor([[1.0000e+00, 2.1544e+01, 4.6416e+02, 1.0000e+04]])"
      ]
     },
     "execution_count": 30,
     "metadata": {},
     "output_type": "execute_result"
    }
   ],
   "source": [
    "frequencies = 10.0 ** (torch.arange(dim) / (dim - 1) * 4.0).unsqueeze(0) \n",
    "frequencies"
   ]
  },
  {
   "cell_type": "code",
   "execution_count": 38,
   "id": "a2696f2c-b0b7-4abc-8f7f-0781e71de63c",
   "metadata": {
    "tags": []
   },
   "outputs": [
    {
     "data": {
      "text/plain": [
       "tensor([[0.0000e+00, 0.0000e+00, 0.0000e+00, 0.0000e+00],\n",
       "        [1.0000e+00, 2.1544e+01, 4.6416e+02, 1.0000e+04],\n",
       "        [2.0000e+00, 4.3089e+01, 9.2832e+02, 2.0000e+04],\n",
       "        [3.0000e+00, 6.4633e+01, 1.3925e+03, 3.0000e+04],\n",
       "        [4.0000e+00, 8.6177e+01, 1.8566e+03, 4.0000e+04],\n",
       "        [5.0000e+00, 1.0772e+02, 2.3208e+03, 5.0000e+04],\n",
       "        [6.0000e+00, 1.2927e+02, 2.7850e+03, 6.0000e+04],\n",
       "        [7.0000e+00, 1.5081e+02, 3.2491e+03, 7.0000e+04],\n",
       "        [8.0000e+00, 1.7235e+02, 3.7133e+03, 8.0000e+04],\n",
       "        [9.0000e+00, 1.9390e+02, 4.1774e+03, 9.0000e+04]])"
      ]
     },
     "execution_count": 38,
     "metadata": {},
     "output_type": "execute_result"
    }
   ],
   "source": [
    "table = steps * frequencies  # (T,dim)\n",
    "table"
   ]
  },
  {
   "cell_type": "code",
   "execution_count": 39,
   "id": "ebaa9de0-6983-4826-ae8e-aaaa909e447c",
   "metadata": {
    "tags": []
   },
   "outputs": [
    {
     "data": {
      "text/plain": [
       "tensor([[ 0.0000,  0.0000,  0.0000,  0.0000],\n",
       "        [ 0.8415,  0.4321, -0.7151, -0.3056],\n",
       "        [ 0.9093, -0.7793, -0.9997,  0.5820],\n",
       "        [ 0.1411,  0.9736, -0.6827, -0.8027],\n",
       "        [-0.7568, -0.9767,  0.0454,  0.9465],\n",
       "        [-0.9589,  0.7880,  0.7460, -0.9998],\n",
       "        [-0.2794, -0.4447,  0.9977,  0.9575],\n",
       "        [ 0.6570,  0.0140,  0.6488, -0.8235],\n",
       "        [ 0.9894,  0.4194, -0.0907,  0.6107],\n",
       "        [ 0.4121, -0.7705, -0.7755, -0.3395]])"
      ]
     },
     "execution_count": 39,
     "metadata": {},
     "output_type": "execute_result"
    }
   ],
   "source": [
    "torch.sin(table)"
   ]
  },
  {
   "cell_type": "code",
   "execution_count": 36,
   "id": "368880b4-792c-413e-ad4d-75e990ca6101",
   "metadata": {
    "tags": []
   },
   "outputs": [
    {
     "data": {
      "text/plain": [
       "tensor([[ 0.0000,  0.0000,  0.0000,  0.0000,  1.0000,  1.0000,  1.0000,  1.0000],\n",
       "        [ 0.8415,  0.4321, -0.7151, -0.3056,  0.5403, -0.9018,  0.6990, -0.9522],\n",
       "        [ 0.9093, -0.7793, -0.9997,  0.5820, -0.4161,  0.6266, -0.0227,  0.8132],\n",
       "        [ 0.1411,  0.9736, -0.6827, -0.8027, -0.9900, -0.2284, -0.7307, -0.5964],\n",
       "        [-0.7568, -0.9767,  0.0454,  0.9465, -0.6536, -0.2147, -0.9990,  0.3226],\n",
       "        [-0.9589,  0.7880,  0.7460, -0.9998,  0.2837,  0.6156, -0.6659, -0.0179],\n",
       "        [-0.2794, -0.4447,  0.9977,  0.9575,  0.9602, -0.8957,  0.0680, -0.2885],\n",
       "        [ 0.6570,  0.0140,  0.6488, -0.8235,  0.7539,  0.9999,  0.7610,  0.5674],\n",
       "        [ 0.9894,  0.4194, -0.0907,  0.6107, -0.1455, -0.9078,  0.9959, -0.7919],\n",
       "        [ 0.4121, -0.7705, -0.7755, -0.3395, -0.9111,  0.6375,  0.6313,  0.9406]])"
      ]
     },
     "execution_count": 36,
     "metadata": {},
     "output_type": "execute_result"
    }
   ],
   "source": [
    "table = torch.cat([torch.sin(table), torch.cos(table)], dim=1)  # (T,dim*2)\n",
    "table"
   ]
  },
  {
   "cell_type": "code",
   "execution_count": null,
   "id": "ed586a7e-d19f-4483-897e-987a17561e37",
   "metadata": {
    "tags": []
   },
   "outputs": [],
   "source": [
    "print(len(data[0]))\n",
    "print(len(data[0][0]))\n",
    "print(len(data[0][0][0]))\n",
    "\n",
    "print(data[0][0][0])"
   ]
  },
  {
   "cell_type": "code",
   "execution_count": 7,
   "id": "0d81e06f-1f79-45d5-9a26-4a09e7b9aefc",
   "metadata": {
    "tags": []
   },
   "outputs": [
    {
     "data": {
      "text/plain": [
       "3"
      ]
     },
     "execution_count": 7,
     "metadata": {},
     "output_type": "execute_result"
    }
   ],
   "source": [
    "import pickle\n",
    "#path = \"./data/pm25/pm25_meanstd.pk\" Documents/GitHub/CSDI/save/physio_fold0_20231214_102050/result_nsample100.pk\n",
    "path = \"./data/physio_missing0.1_seed1.pk\"\n",
    "\n",
    "with open(path, 'rb') as f:\n",
    "    data = pickle.load(f)\n",
    "len(data)"
   ]
  },
  {
   "cell_type": "code",
   "execution_count": 13,
   "id": "50bf8a2d-d4c7-4eaa-967a-1004e67547b7",
   "metadata": {
    "tags": []
   },
   "outputs": [
    {
     "name": "stdout",
     "output_type": "stream",
     "text": [
      "3997\n",
      "48\n",
      "35\n",
      "[-0.         -0.54655684 -0.         -0.         -0.00918508 -0.\n",
      " -0.         -0.         -0.         -0.         -0.         -0.\n",
      " -0.9443382  -0.         -0.         -0.         -0.         -0.11761455\n",
      " -0.         -0.         -0.         -0.         -0.          0.90539649\n",
      " -0.          1.72231948 -0.         -0.         -0.         -0.\n",
      " -0.         -0.32883745  0.93636527 -0.         -0.        ]\n"
     ]
    }
   ],
   "source": [
    "print(len(data[0]))\n",
    "print(len(data[0][0]))\n",
    "print(len(data[0][0][0]))\n",
    "\n",
    "print(data[0][0][0])"
   ]
  },
  {
   "cell_type": "code",
   "execution_count": 18,
   "id": "5a0060b0-616c-4652-aa47-301b9adcfdaf",
   "metadata": {
    "tags": []
   },
   "outputs": [
    {
     "name": "stdout",
     "output_type": "stream",
     "text": [
      "3997\n",
      "48\n",
      "35\n",
      "[0. 1. 0. 0. 1. 0. 0. 0. 0. 0. 0. 0. 1. 0. 0. 0. 0. 1. 0. 0. 0. 0. 0. 1.\n",
      " 0. 1. 0. 0. 0. 0. 0. 1. 1. 0. 0.]\n"
     ]
    }
   ],
   "source": [
    "d = 1\n",
    "print(len(data[d]))\n",
    "print(len(data[d][0]))\n",
    "print(len(data[d][0][0]))\n",
    "\n",
    "print(data[d][0][0])"
   ]
  },
  {
   "cell_type": "code",
   "execution_count": 19,
   "id": "a02b5cfe-266d-4c8c-a54e-8cf8390cfa9d",
   "metadata": {
    "tags": []
   },
   "outputs": [
    {
     "name": "stdout",
     "output_type": "stream",
     "text": [
      "3997\n",
      "48\n",
      "35\n",
      "[0. 1. 0. 0. 1. 0. 0. 0. 0. 0. 0. 0. 1. 0. 0. 0. 0. 1. 0. 0. 0. 0. 0. 0.\n",
      " 0. 1. 0. 0. 0. 0. 0. 1. 1. 0. 0.]\n"
     ]
    }
   ],
   "source": [
    "d = 2\n",
    "print(len(data[d]))\n",
    "print(len(data[d][0]))\n",
    "print(len(data[d][0][0]))\n",
    "\n",
    "print(data[d][0][0])"
   ]
  },
  {
   "cell_type": "code",
   "execution_count": 20,
   "id": "a08537a8-1aa0-420e-9b5a-820567088b69",
   "metadata": {
    "tags": []
   },
   "outputs": [
    {
     "ename": "IndexError",
     "evalue": "list index out of range",
     "output_type": "error",
     "traceback": [
      "\u001b[1;31m---------------------------------------------------------------------------\u001b[0m",
      "\u001b[1;31mIndexError\u001b[0m                                Traceback (most recent call last)",
      "Cell \u001b[1;32mIn[20], line 2\u001b[0m\n\u001b[0;32m      1\u001b[0m d \u001b[38;5;241m=\u001b[39m \u001b[38;5;241m3\u001b[39m\n\u001b[1;32m----> 2\u001b[0m \u001b[38;5;28mprint\u001b[39m(\u001b[38;5;28mlen\u001b[39m(data[d]))\n\u001b[0;32m      3\u001b[0m \u001b[38;5;28mprint\u001b[39m(\u001b[38;5;28mlen\u001b[39m(data[d][\u001b[38;5;241m0\u001b[39m]))\n\u001b[0;32m      4\u001b[0m \u001b[38;5;28mprint\u001b[39m(\u001b[38;5;28mlen\u001b[39m(data[d][\u001b[38;5;241m0\u001b[39m][\u001b[38;5;241m0\u001b[39m]))\n",
      "\u001b[1;31mIndexError\u001b[0m: list index out of range"
     ]
    }
   ],
   "source": [
    "d = 3\n",
    "print(len(data[d]))\n",
    "print(len(data[d][0]))\n",
    "print(len(data[d][0][0]))\n",
    "\n",
    "print(data[d][0][0])"
   ]
  },
  {
   "cell_type": "code",
   "execution_count": 17,
   "id": "396a986f-2a56-4c97-8be5-affadf6ca344",
   "metadata": {
    "tags": []
   },
   "outputs": [
    {
     "name": "stdout",
     "output_type": "stream",
     "text": [
      "[-0.         -0.54655684 -0.         -0.         -0.00918508 -0.\n",
      " -0.         -0.         -0.         -0.         -0.         -0.\n",
      " -0.9443382  -0.         -0.         -0.         -0.         -0.11761455\n",
      " -0.         -0.         -0.         -0.         -0.          0.90539649\n",
      " -0.          1.72231948 -0.         -0.         -0.         -0.\n",
      " -0.         -0.32883745  0.93636527 -0.         -0.        ]\n",
      "[0. 1. 0. 0. 1. 0. 0. 0. 0. 0. 0. 0. 1. 0. 0. 0. 0. 1. 0. 0. 0. 0. 0. 1.\n",
      " 0. 1. 0. 0. 0. 0. 0. 1. 1. 0. 0.]\n",
      "[0. 1. 0. 0. 1. 0. 0. 0. 0. 0. 0. 0. 1. 0. 0. 0. 0. 1. 0. 0. 0. 0. 0. 0.\n",
      " 0. 1. 0. 0. 0. 0. 0. 1. 1. 0. 0.]\n"
     ]
    }
   ],
   "source": [
    "#print(data[1])\n",
    "print(data[0][0][0])\n",
    "print(data[1][0][0])\n",
    "print(data[2][0][0])"
   ]
  },
  {
   "cell_type": "code",
   "execution_count": 7,
   "id": "a8886511-226f-46ea-a61d-28a22ea17765",
   "metadata": {
    "collapsed": true,
    "jupyter": {
     "outputs_hidden": true
    },
    "tags": []
   },
   "outputs": [
    {
     "data": {
      "text/html": [
       "<div>\n",
       "<style scoped>\n",
       "    .dataframe tbody tr th:only-of-type {\n",
       "        vertical-align: middle;\n",
       "    }\n",
       "\n",
       "    .dataframe tbody tr th {\n",
       "        vertical-align: top;\n",
       "    }\n",
       "\n",
       "    .dataframe thead th {\n",
       "        text-align: right;\n",
       "    }\n",
       "</style>\n",
       "<table border=\"1\" class=\"dataframe\">\n",
       "  <thead>\n",
       "    <tr style=\"text-align: right;\">\n",
       "      <th></th>\n",
       "      <th>001001</th>\n",
       "      <th>001002</th>\n",
       "      <th>001003</th>\n",
       "      <th>001004</th>\n",
       "      <th>001005</th>\n",
       "      <th>001006</th>\n",
       "      <th>001007</th>\n",
       "      <th>001008</th>\n",
       "      <th>001009</th>\n",
       "      <th>001010</th>\n",
       "      <th>...</th>\n",
       "      <th>001027</th>\n",
       "      <th>001028</th>\n",
       "      <th>001029</th>\n",
       "      <th>001030</th>\n",
       "      <th>001031</th>\n",
       "      <th>001032</th>\n",
       "      <th>001033</th>\n",
       "      <th>001034</th>\n",
       "      <th>001035</th>\n",
       "      <th>001036</th>\n",
       "    </tr>\n",
       "  </thead>\n",
       "  <tbody>\n",
       "    <tr>\n",
       "      <th>count</th>\n",
       "      <td>7388.000000</td>\n",
       "      <td>7441.000000</td>\n",
       "      <td>8202.000000</td>\n",
       "      <td>7499.000000</td>\n",
       "      <td>7512.000000</td>\n",
       "      <td>8140.000000</td>\n",
       "      <td>7832.000000</td>\n",
       "      <td>7002.000000</td>\n",
       "      <td>8147.000000</td>\n",
       "      <td>7503.000000</td>\n",
       "      <td>...</td>\n",
       "      <td>7958.000000</td>\n",
       "      <td>7437.000000</td>\n",
       "      <td>7549.000000</td>\n",
       "      <td>8194.000000</td>\n",
       "      <td>7478.000000</td>\n",
       "      <td>7186.000000</td>\n",
       "      <td>7394.000000</td>\n",
       "      <td>7087.000000</td>\n",
       "      <td>6898.000000</td>\n",
       "      <td>7069.000000</td>\n",
       "    </tr>\n",
       "    <tr>\n",
       "      <th>mean</th>\n",
       "      <td>80.778154</td>\n",
       "      <td>72.105228</td>\n",
       "      <td>82.024019</td>\n",
       "      <td>83.282304</td>\n",
       "      <td>94.015309</td>\n",
       "      <td>81.450614</td>\n",
       "      <td>83.340398</td>\n",
       "      <td>86.009426</td>\n",
       "      <td>82.965386</td>\n",
       "      <td>90.999067</td>\n",
       "      <td>...</td>\n",
       "      <td>69.929756</td>\n",
       "      <td>66.331720</td>\n",
       "      <td>65.980395</td>\n",
       "      <td>67.609104</td>\n",
       "      <td>59.530088</td>\n",
       "      <td>58.153493</td>\n",
       "      <td>69.753449</td>\n",
       "      <td>103.423451</td>\n",
       "      <td>99.623804</td>\n",
       "      <td>121.347715</td>\n",
       "    </tr>\n",
       "    <tr>\n",
       "      <th>std</th>\n",
       "      <td>75.446483</td>\n",
       "      <td>70.488158</td>\n",
       "      <td>72.574603</td>\n",
       "      <td>77.068382</td>\n",
       "      <td>87.615338</td>\n",
       "      <td>74.941528</td>\n",
       "      <td>74.759467</td>\n",
       "      <td>78.284668</td>\n",
       "      <td>76.428544</td>\n",
       "      <td>83.066265</td>\n",
       "      <td>...</td>\n",
       "      <td>66.229909</td>\n",
       "      <td>68.063576</td>\n",
       "      <td>63.577960</td>\n",
       "      <td>71.735021</td>\n",
       "      <td>59.248960</td>\n",
       "      <td>60.466758</td>\n",
       "      <td>62.850682</td>\n",
       "      <td>95.728367</td>\n",
       "      <td>91.799252</td>\n",
       "      <td>110.752999</td>\n",
       "    </tr>\n",
       "    <tr>\n",
       "      <th>min</th>\n",
       "      <td>3.000000</td>\n",
       "      <td>3.000000</td>\n",
       "      <td>3.000000</td>\n",
       "      <td>3.000000</td>\n",
       "      <td>3.000000</td>\n",
       "      <td>3.000000</td>\n",
       "      <td>3.000000</td>\n",
       "      <td>3.000000</td>\n",
       "      <td>3.000000</td>\n",
       "      <td>3.000000</td>\n",
       "      <td>...</td>\n",
       "      <td>3.000000</td>\n",
       "      <td>3.000000</td>\n",
       "      <td>3.000000</td>\n",
       "      <td>3.000000</td>\n",
       "      <td>3.000000</td>\n",
       "      <td>3.000000</td>\n",
       "      <td>3.000000</td>\n",
       "      <td>3.000000</td>\n",
       "      <td>3.000000</td>\n",
       "      <td>3.000000</td>\n",
       "    </tr>\n",
       "    <tr>\n",
       "      <th>25%</th>\n",
       "      <td>24.000000</td>\n",
       "      <td>17.000000</td>\n",
       "      <td>27.000000</td>\n",
       "      <td>26.000000</td>\n",
       "      <td>30.000000</td>\n",
       "      <td>24.000000</td>\n",
       "      <td>26.000000</td>\n",
       "      <td>26.000000</td>\n",
       "      <td>23.000000</td>\n",
       "      <td>28.000000</td>\n",
       "      <td>...</td>\n",
       "      <td>18.000000</td>\n",
       "      <td>15.000000</td>\n",
       "      <td>18.000000</td>\n",
       "      <td>14.000000</td>\n",
       "      <td>16.000000</td>\n",
       "      <td>12.000000</td>\n",
       "      <td>20.000000</td>\n",
       "      <td>36.000000</td>\n",
       "      <td>33.000000</td>\n",
       "      <td>42.000000</td>\n",
       "    </tr>\n",
       "    <tr>\n",
       "      <th>50%</th>\n",
       "      <td>57.000000</td>\n",
       "      <td>50.000000</td>\n",
       "      <td>62.000000</td>\n",
       "      <td>60.000000</td>\n",
       "      <td>68.000000</td>\n",
       "      <td>60.000000</td>\n",
       "      <td>64.000000</td>\n",
       "      <td>65.000000</td>\n",
       "      <td>62.000000</td>\n",
       "      <td>69.000000</td>\n",
       "      <td>...</td>\n",
       "      <td>50.000000</td>\n",
       "      <td>45.000000</td>\n",
       "      <td>45.000000</td>\n",
       "      <td>42.000000</td>\n",
       "      <td>37.000000</td>\n",
       "      <td>37.000000</td>\n",
       "      <td>52.000000</td>\n",
       "      <td>76.000000</td>\n",
       "      <td>74.000000</td>\n",
       "      <td>86.000000</td>\n",
       "    </tr>\n",
       "    <tr>\n",
       "      <th>75%</th>\n",
       "      <td>116.000000</td>\n",
       "      <td>106.000000</td>\n",
       "      <td>117.000000</td>\n",
       "      <td>120.000000</td>\n",
       "      <td>131.000000</td>\n",
       "      <td>116.000000</td>\n",
       "      <td>116.000000</td>\n",
       "      <td>119.000000</td>\n",
       "      <td>117.000000</td>\n",
       "      <td>124.000000</td>\n",
       "      <td>...</td>\n",
       "      <td>101.000000</td>\n",
       "      <td>94.000000</td>\n",
       "      <td>94.000000</td>\n",
       "      <td>96.000000</td>\n",
       "      <td>85.000000</td>\n",
       "      <td>86.000000</td>\n",
       "      <td>101.000000</td>\n",
       "      <td>138.000000</td>\n",
       "      <td>135.000000</td>\n",
       "      <td>164.000000</td>\n",
       "    </tr>\n",
       "    <tr>\n",
       "      <th>max</th>\n",
       "      <td>429.000000</td>\n",
       "      <td>470.000000</td>\n",
       "      <td>500.000000</td>\n",
       "      <td>500.000000</td>\n",
       "      <td>500.000000</td>\n",
       "      <td>482.000000</td>\n",
       "      <td>496.000000</td>\n",
       "      <td>500.000000</td>\n",
       "      <td>500.000000</td>\n",
       "      <td>500.000000</td>\n",
       "      <td>...</td>\n",
       "      <td>500.000000</td>\n",
       "      <td>500.000000</td>\n",
       "      <td>416.000000</td>\n",
       "      <td>442.000000</td>\n",
       "      <td>440.000000</td>\n",
       "      <td>392.000000</td>\n",
       "      <td>500.000000</td>\n",
       "      <td>500.000000</td>\n",
       "      <td>500.000000</td>\n",
       "      <td>500.000000</td>\n",
       "    </tr>\n",
       "  </tbody>\n",
       "</table>\n",
       "<p>8 rows × 36 columns</p>\n",
       "</div>"
      ],
      "text/plain": [
       "            001001       001002       001003       001004       001005  \\\n",
       "count  7388.000000  7441.000000  8202.000000  7499.000000  7512.000000   \n",
       "mean     80.778154    72.105228    82.024019    83.282304    94.015309   \n",
       "std      75.446483    70.488158    72.574603    77.068382    87.615338   \n",
       "min       3.000000     3.000000     3.000000     3.000000     3.000000   \n",
       "25%      24.000000    17.000000    27.000000    26.000000    30.000000   \n",
       "50%      57.000000    50.000000    62.000000    60.000000    68.000000   \n",
       "75%     116.000000   106.000000   117.000000   120.000000   131.000000   \n",
       "max     429.000000   470.000000   500.000000   500.000000   500.000000   \n",
       "\n",
       "            001006       001007       001008       001009       001010  ...  \\\n",
       "count  8140.000000  7832.000000  7002.000000  8147.000000  7503.000000  ...   \n",
       "mean     81.450614    83.340398    86.009426    82.965386    90.999067  ...   \n",
       "std      74.941528    74.759467    78.284668    76.428544    83.066265  ...   \n",
       "min       3.000000     3.000000     3.000000     3.000000     3.000000  ...   \n",
       "25%      24.000000    26.000000    26.000000    23.000000    28.000000  ...   \n",
       "50%      60.000000    64.000000    65.000000    62.000000    69.000000  ...   \n",
       "75%     116.000000   116.000000   119.000000   117.000000   124.000000  ...   \n",
       "max     482.000000   496.000000   500.000000   500.000000   500.000000  ...   \n",
       "\n",
       "            001027       001028       001029       001030       001031  \\\n",
       "count  7958.000000  7437.000000  7549.000000  8194.000000  7478.000000   \n",
       "mean     69.929756    66.331720    65.980395    67.609104    59.530088   \n",
       "std      66.229909    68.063576    63.577960    71.735021    59.248960   \n",
       "min       3.000000     3.000000     3.000000     3.000000     3.000000   \n",
       "25%      18.000000    15.000000    18.000000    14.000000    16.000000   \n",
       "50%      50.000000    45.000000    45.000000    42.000000    37.000000   \n",
       "75%     101.000000    94.000000    94.000000    96.000000    85.000000   \n",
       "max     500.000000   500.000000   416.000000   442.000000   440.000000   \n",
       "\n",
       "            001032       001033       001034       001035       001036  \n",
       "count  7186.000000  7394.000000  7087.000000  6898.000000  7069.000000  \n",
       "mean     58.153493    69.753449   103.423451    99.623804   121.347715  \n",
       "std      60.466758    62.850682    95.728367    91.799252   110.752999  \n",
       "min       3.000000     3.000000     3.000000     3.000000     3.000000  \n",
       "25%      12.000000    20.000000    36.000000    33.000000    42.000000  \n",
       "50%      37.000000    52.000000    76.000000    74.000000    86.000000  \n",
       "75%      86.000000   101.000000   138.000000   135.000000   164.000000  \n",
       "max     392.000000   500.000000   500.000000   500.000000   500.000000  \n",
       "\n",
       "[8 rows x 36 columns]"
      ]
     },
     "execution_count": 7,
     "metadata": {},
     "output_type": "execute_result"
    }
   ],
   "source": [
    "df = pd.read_csv(\n",
    "    \"./data/pm25/Code/STMVL/SampleData/pm25_ground.txt\",\n",
    "    index_col=\"datetime\",\n",
    "    parse_dates=True,\n",
    ")\n",
    "df.describe()"
   ]
  },
  {
   "cell_type": "code",
   "execution_count": 8,
   "id": "ef910572-3e1f-488d-95fb-8893282b52b2",
   "metadata": {
    "collapsed": true,
    "jupyter": {
     "outputs_hidden": true
    },
    "tags": []
   },
   "outputs": [
    {
     "data": {
      "text/html": [
       "<div>\n",
       "<style scoped>\n",
       "    .dataframe tbody tr th:only-of-type {\n",
       "        vertical-align: middle;\n",
       "    }\n",
       "\n",
       "    .dataframe tbody tr th {\n",
       "        vertical-align: top;\n",
       "    }\n",
       "\n",
       "    .dataframe thead th {\n",
       "        text-align: right;\n",
       "    }\n",
       "</style>\n",
       "<table border=\"1\" class=\"dataframe\">\n",
       "  <thead>\n",
       "    <tr style=\"text-align: right;\">\n",
       "      <th></th>\n",
       "      <th>001001</th>\n",
       "      <th>001002</th>\n",
       "      <th>001003</th>\n",
       "      <th>001004</th>\n",
       "      <th>001005</th>\n",
       "      <th>001006</th>\n",
       "      <th>001007</th>\n",
       "      <th>001008</th>\n",
       "      <th>001009</th>\n",
       "      <th>001010</th>\n",
       "      <th>...</th>\n",
       "      <th>001027</th>\n",
       "      <th>001028</th>\n",
       "      <th>001029</th>\n",
       "      <th>001030</th>\n",
       "      <th>001031</th>\n",
       "      <th>001032</th>\n",
       "      <th>001033</th>\n",
       "      <th>001034</th>\n",
       "      <th>001035</th>\n",
       "      <th>001036</th>\n",
       "    </tr>\n",
       "    <tr>\n",
       "      <th>datetime</th>\n",
       "      <th></th>\n",
       "      <th></th>\n",
       "      <th></th>\n",
       "      <th></th>\n",
       "      <th></th>\n",
       "      <th></th>\n",
       "      <th></th>\n",
       "      <th></th>\n",
       "      <th></th>\n",
       "      <th></th>\n",
       "      <th></th>\n",
       "      <th></th>\n",
       "      <th></th>\n",
       "      <th></th>\n",
       "      <th></th>\n",
       "      <th></th>\n",
       "      <th></th>\n",
       "      <th></th>\n",
       "      <th></th>\n",
       "      <th></th>\n",
       "      <th></th>\n",
       "    </tr>\n",
       "  </thead>\n",
       "  <tbody>\n",
       "    <tr>\n",
       "      <th>2014-05-01 01:00:00</th>\n",
       "      <td>138.0</td>\n",
       "      <td>89.0</td>\n",
       "      <td>105.0</td>\n",
       "      <td>98.0</td>\n",
       "      <td>109.0</td>\n",
       "      <td>87.0</td>\n",
       "      <td>88.0</td>\n",
       "      <td>91.0</td>\n",
       "      <td>87.0</td>\n",
       "      <td>87.0</td>\n",
       "      <td>...</td>\n",
       "      <td>101.0</td>\n",
       "      <td>84.0</td>\n",
       "      <td>117.0</td>\n",
       "      <td>NaN</td>\n",
       "      <td>97.0</td>\n",
       "      <td>87.0</td>\n",
       "      <td>74.0</td>\n",
       "      <td>94.0</td>\n",
       "      <td>112.0</td>\n",
       "      <td>109.0</td>\n",
       "    </tr>\n",
       "    <tr>\n",
       "      <th>2014-05-01 02:00:00</th>\n",
       "      <td>124.0</td>\n",
       "      <td>85.0</td>\n",
       "      <td>121.0</td>\n",
       "      <td>107.0</td>\n",
       "      <td>101.0</td>\n",
       "      <td>99.0</td>\n",
       "      <td>105.0</td>\n",
       "      <td>102.0</td>\n",
       "      <td>103.0</td>\n",
       "      <td>94.0</td>\n",
       "      <td>...</td>\n",
       "      <td>100.0</td>\n",
       "      <td>77.0</td>\n",
       "      <td>109.0</td>\n",
       "      <td>78.0</td>\n",
       "      <td>97.0</td>\n",
       "      <td>84.0</td>\n",
       "      <td>84.0</td>\n",
       "      <td>101.0</td>\n",
       "      <td>123.0</td>\n",
       "      <td>114.0</td>\n",
       "    </tr>\n",
       "    <tr>\n",
       "      <th>2014-05-01 03:00:00</th>\n",
       "      <td>127.0</td>\n",
       "      <td>88.0</td>\n",
       "      <td>130.0</td>\n",
       "      <td>115.0</td>\n",
       "      <td>102.0</td>\n",
       "      <td>109.0</td>\n",
       "      <td>114.0</td>\n",
       "      <td>108.0</td>\n",
       "      <td>112.0</td>\n",
       "      <td>109.0</td>\n",
       "      <td>...</td>\n",
       "      <td>103.0</td>\n",
       "      <td>90.0</td>\n",
       "      <td>105.0</td>\n",
       "      <td>77.0</td>\n",
       "      <td>103.0</td>\n",
       "      <td>83.0</td>\n",
       "      <td>100.0</td>\n",
       "      <td>112.0</td>\n",
       "      <td>143.0</td>\n",
       "      <td>126.0</td>\n",
       "    </tr>\n",
       "    <tr>\n",
       "      <th>2014-05-01 04:00:00</th>\n",
       "      <td>129.0</td>\n",
       "      <td>100.0</td>\n",
       "      <td>137.0</td>\n",
       "      <td>123.0</td>\n",
       "      <td>108.0</td>\n",
       "      <td>118.0</td>\n",
       "      <td>118.0</td>\n",
       "      <td>109.0</td>\n",
       "      <td>117.0</td>\n",
       "      <td>111.0</td>\n",
       "      <td>...</td>\n",
       "      <td>110.0</td>\n",
       "      <td>94.0</td>\n",
       "      <td>105.0</td>\n",
       "      <td>90.0</td>\n",
       "      <td>107.0</td>\n",
       "      <td>88.0</td>\n",
       "      <td>103.0</td>\n",
       "      <td>120.0</td>\n",
       "      <td>138.0</td>\n",
       "      <td>130.0</td>\n",
       "    </tr>\n",
       "    <tr>\n",
       "      <th>2014-05-01 05:00:00</th>\n",
       "      <td>119.0</td>\n",
       "      <td>109.0</td>\n",
       "      <td>144.0</td>\n",
       "      <td>129.0</td>\n",
       "      <td>115.0</td>\n",
       "      <td>124.0</td>\n",
       "      <td>130.0</td>\n",
       "      <td>116.0</td>\n",
       "      <td>124.0</td>\n",
       "      <td>114.0</td>\n",
       "      <td>...</td>\n",
       "      <td>105.0</td>\n",
       "      <td>80.0</td>\n",
       "      <td>104.0</td>\n",
       "      <td>83.0</td>\n",
       "      <td>111.0</td>\n",
       "      <td>85.0</td>\n",
       "      <td>108.0</td>\n",
       "      <td>125.0</td>\n",
       "      <td>145.0</td>\n",
       "      <td>137.0</td>\n",
       "    </tr>\n",
       "    <tr>\n",
       "      <th>...</th>\n",
       "      <td>...</td>\n",
       "      <td>...</td>\n",
       "      <td>...</td>\n",
       "      <td>...</td>\n",
       "      <td>...</td>\n",
       "      <td>...</td>\n",
       "      <td>...</td>\n",
       "      <td>...</td>\n",
       "      <td>...</td>\n",
       "      <td>...</td>\n",
       "      <td>...</td>\n",
       "      <td>...</td>\n",
       "      <td>...</td>\n",
       "      <td>...</td>\n",
       "      <td>...</td>\n",
       "      <td>...</td>\n",
       "      <td>...</td>\n",
       "      <td>...</td>\n",
       "      <td>...</td>\n",
       "      <td>...</td>\n",
       "      <td>...</td>\n",
       "    </tr>\n",
       "    <tr>\n",
       "      <th>2015-04-30 19:00:00</th>\n",
       "      <td>86.0</td>\n",
       "      <td>72.0</td>\n",
       "      <td>70.0</td>\n",
       "      <td>72.0</td>\n",
       "      <td>73.0</td>\n",
       "      <td>63.0</td>\n",
       "      <td>65.0</td>\n",
       "      <td>69.0</td>\n",
       "      <td>74.0</td>\n",
       "      <td>66.0</td>\n",
       "      <td>...</td>\n",
       "      <td>130.0</td>\n",
       "      <td>136.0</td>\n",
       "      <td>79.0</td>\n",
       "      <td>69.0</td>\n",
       "      <td>74.0</td>\n",
       "      <td>125.0</td>\n",
       "      <td>94.0</td>\n",
       "      <td>67.0</td>\n",
       "      <td>64.0</td>\n",
       "      <td>79.0</td>\n",
       "    </tr>\n",
       "    <tr>\n",
       "      <th>2015-04-30 20:00:00</th>\n",
       "      <td>87.0</td>\n",
       "      <td>73.0</td>\n",
       "      <td>73.0</td>\n",
       "      <td>76.0</td>\n",
       "      <td>83.0</td>\n",
       "      <td>63.0</td>\n",
       "      <td>61.0</td>\n",
       "      <td>62.0</td>\n",
       "      <td>62.0</td>\n",
       "      <td>68.0</td>\n",
       "      <td>...</td>\n",
       "      <td>133.0</td>\n",
       "      <td>124.0</td>\n",
       "      <td>64.0</td>\n",
       "      <td>67.0</td>\n",
       "      <td>75.0</td>\n",
       "      <td>124.0</td>\n",
       "      <td>128.0</td>\n",
       "      <td>103.0</td>\n",
       "      <td>69.0</td>\n",
       "      <td>77.0</td>\n",
       "    </tr>\n",
       "    <tr>\n",
       "      <th>2015-04-30 21:00:00</th>\n",
       "      <td>80.0</td>\n",
       "      <td>74.0</td>\n",
       "      <td>80.0</td>\n",
       "      <td>70.0</td>\n",
       "      <td>84.0</td>\n",
       "      <td>69.0</td>\n",
       "      <td>72.0</td>\n",
       "      <td>75.0</td>\n",
       "      <td>77.0</td>\n",
       "      <td>73.0</td>\n",
       "      <td>...</td>\n",
       "      <td>117.0</td>\n",
       "      <td>123.0</td>\n",
       "      <td>72.0</td>\n",
       "      <td>70.0</td>\n",
       "      <td>82.0</td>\n",
       "      <td>125.0</td>\n",
       "      <td>139.0</td>\n",
       "      <td>166.0</td>\n",
       "      <td>78.0</td>\n",
       "      <td>94.0</td>\n",
       "    </tr>\n",
       "    <tr>\n",
       "      <th>2015-04-30 22:00:00</th>\n",
       "      <td>NaN</td>\n",
       "      <td>NaN</td>\n",
       "      <td>87.0</td>\n",
       "      <td>NaN</td>\n",
       "      <td>NaN</td>\n",
       "      <td>76.0</td>\n",
       "      <td>79.0</td>\n",
       "      <td>NaN</td>\n",
       "      <td>82.0</td>\n",
       "      <td>NaN</td>\n",
       "      <td>...</td>\n",
       "      <td>178.0</td>\n",
       "      <td>NaN</td>\n",
       "      <td>NaN</td>\n",
       "      <td>74.0</td>\n",
       "      <td>NaN</td>\n",
       "      <td>NaN</td>\n",
       "      <td>NaN</td>\n",
       "      <td>NaN</td>\n",
       "      <td>NaN</td>\n",
       "      <td>NaN</td>\n",
       "    </tr>\n",
       "    <tr>\n",
       "      <th>2015-04-30 23:00:00</th>\n",
       "      <td>79.0</td>\n",
       "      <td>73.0</td>\n",
       "      <td>93.0</td>\n",
       "      <td>77.0</td>\n",
       "      <td>80.0</td>\n",
       "      <td>73.0</td>\n",
       "      <td>131.0</td>\n",
       "      <td>74.0</td>\n",
       "      <td>82.0</td>\n",
       "      <td>94.0</td>\n",
       "      <td>...</td>\n",
       "      <td>208.0</td>\n",
       "      <td>178.0</td>\n",
       "      <td>79.0</td>\n",
       "      <td>87.0</td>\n",
       "      <td>80.0</td>\n",
       "      <td>147.0</td>\n",
       "      <td>164.0</td>\n",
       "      <td>244.0</td>\n",
       "      <td>94.0</td>\n",
       "      <td>88.0</td>\n",
       "    </tr>\n",
       "  </tbody>\n",
       "</table>\n",
       "<p>8759 rows × 36 columns</p>\n",
       "</div>"
      ],
      "text/plain": [
       "                     001001  001002  001003  001004  001005  001006  001007  \\\n",
       "datetime                                                                      \n",
       "2014-05-01 01:00:00   138.0    89.0   105.0    98.0   109.0    87.0    88.0   \n",
       "2014-05-01 02:00:00   124.0    85.0   121.0   107.0   101.0    99.0   105.0   \n",
       "2014-05-01 03:00:00   127.0    88.0   130.0   115.0   102.0   109.0   114.0   \n",
       "2014-05-01 04:00:00   129.0   100.0   137.0   123.0   108.0   118.0   118.0   \n",
       "2014-05-01 05:00:00   119.0   109.0   144.0   129.0   115.0   124.0   130.0   \n",
       "...                     ...     ...     ...     ...     ...     ...     ...   \n",
       "2015-04-30 19:00:00    86.0    72.0    70.0    72.0    73.0    63.0    65.0   \n",
       "2015-04-30 20:00:00    87.0    73.0    73.0    76.0    83.0    63.0    61.0   \n",
       "2015-04-30 21:00:00    80.0    74.0    80.0    70.0    84.0    69.0    72.0   \n",
       "2015-04-30 22:00:00     NaN     NaN    87.0     NaN     NaN    76.0    79.0   \n",
       "2015-04-30 23:00:00    79.0    73.0    93.0    77.0    80.0    73.0   131.0   \n",
       "\n",
       "                     001008  001009  001010  ...  001027  001028  001029  \\\n",
       "datetime                                     ...                           \n",
       "2014-05-01 01:00:00    91.0    87.0    87.0  ...   101.0    84.0   117.0   \n",
       "2014-05-01 02:00:00   102.0   103.0    94.0  ...   100.0    77.0   109.0   \n",
       "2014-05-01 03:00:00   108.0   112.0   109.0  ...   103.0    90.0   105.0   \n",
       "2014-05-01 04:00:00   109.0   117.0   111.0  ...   110.0    94.0   105.0   \n",
       "2014-05-01 05:00:00   116.0   124.0   114.0  ...   105.0    80.0   104.0   \n",
       "...                     ...     ...     ...  ...     ...     ...     ...   \n",
       "2015-04-30 19:00:00    69.0    74.0    66.0  ...   130.0   136.0    79.0   \n",
       "2015-04-30 20:00:00    62.0    62.0    68.0  ...   133.0   124.0    64.0   \n",
       "2015-04-30 21:00:00    75.0    77.0    73.0  ...   117.0   123.0    72.0   \n",
       "2015-04-30 22:00:00     NaN    82.0     NaN  ...   178.0     NaN     NaN   \n",
       "2015-04-30 23:00:00    74.0    82.0    94.0  ...   208.0   178.0    79.0   \n",
       "\n",
       "                     001030  001031  001032  001033  001034  001035  001036  \n",
       "datetime                                                                     \n",
       "2014-05-01 01:00:00     NaN    97.0    87.0    74.0    94.0   112.0   109.0  \n",
       "2014-05-01 02:00:00    78.0    97.0    84.0    84.0   101.0   123.0   114.0  \n",
       "2014-05-01 03:00:00    77.0   103.0    83.0   100.0   112.0   143.0   126.0  \n",
       "2014-05-01 04:00:00    90.0   107.0    88.0   103.0   120.0   138.0   130.0  \n",
       "2014-05-01 05:00:00    83.0   111.0    85.0   108.0   125.0   145.0   137.0  \n",
       "...                     ...     ...     ...     ...     ...     ...     ...  \n",
       "2015-04-30 19:00:00    69.0    74.0   125.0    94.0    67.0    64.0    79.0  \n",
       "2015-04-30 20:00:00    67.0    75.0   124.0   128.0   103.0    69.0    77.0  \n",
       "2015-04-30 21:00:00    70.0    82.0   125.0   139.0   166.0    78.0    94.0  \n",
       "2015-04-30 22:00:00    74.0     NaN     NaN     NaN     NaN     NaN     NaN  \n",
       "2015-04-30 23:00:00    87.0    80.0   147.0   164.0   244.0    94.0    88.0  \n",
       "\n",
       "[8759 rows x 36 columns]"
      ]
     },
     "execution_count": 8,
     "metadata": {},
     "output_type": "execute_result"
    }
   ],
   "source": [
    "df\n"
   ]
  },
  {
   "cell_type": "code",
   "execution_count": 9,
   "id": "cbffaad0-6746-46cc-a861-2c0bb5be5787",
   "metadata": {
    "collapsed": true,
    "jupyter": {
     "outputs_hidden": true
    },
    "tags": []
   },
   "outputs": [
    {
     "data": {
      "text/html": [
       "<div>\n",
       "<style scoped>\n",
       "    .dataframe tbody tr th:only-of-type {\n",
       "        vertical-align: middle;\n",
       "    }\n",
       "\n",
       "    .dataframe tbody tr th {\n",
       "        vertical-align: top;\n",
       "    }\n",
       "\n",
       "    .dataframe thead th {\n",
       "        text-align: right;\n",
       "    }\n",
       "</style>\n",
       "<table border=\"1\" class=\"dataframe\">\n",
       "  <thead>\n",
       "    <tr style=\"text-align: right;\">\n",
       "      <th></th>\n",
       "      <th>001001</th>\n",
       "      <th>001002</th>\n",
       "      <th>001003</th>\n",
       "      <th>001004</th>\n",
       "      <th>001005</th>\n",
       "      <th>001006</th>\n",
       "      <th>001007</th>\n",
       "      <th>001008</th>\n",
       "      <th>001009</th>\n",
       "      <th>001010</th>\n",
       "      <th>...</th>\n",
       "      <th>001027</th>\n",
       "      <th>001028</th>\n",
       "      <th>001029</th>\n",
       "      <th>001030</th>\n",
       "      <th>001031</th>\n",
       "      <th>001032</th>\n",
       "      <th>001033</th>\n",
       "      <th>001034</th>\n",
       "      <th>001035</th>\n",
       "      <th>001036</th>\n",
       "    </tr>\n",
       "    <tr>\n",
       "      <th>datetime</th>\n",
       "      <th></th>\n",
       "      <th></th>\n",
       "      <th></th>\n",
       "      <th></th>\n",
       "      <th></th>\n",
       "      <th></th>\n",
       "      <th></th>\n",
       "      <th></th>\n",
       "      <th></th>\n",
       "      <th></th>\n",
       "      <th></th>\n",
       "      <th></th>\n",
       "      <th></th>\n",
       "      <th></th>\n",
       "      <th></th>\n",
       "      <th></th>\n",
       "      <th></th>\n",
       "      <th></th>\n",
       "      <th></th>\n",
       "      <th></th>\n",
       "      <th></th>\n",
       "    </tr>\n",
       "  </thead>\n",
       "  <tbody>\n",
       "    <tr>\n",
       "      <th>2014-05-01 01:00:00</th>\n",
       "      <td>138.0</td>\n",
       "      <td>89.0</td>\n",
       "      <td>105.0</td>\n",
       "      <td>98.0</td>\n",
       "      <td>109.0</td>\n",
       "      <td>87.0</td>\n",
       "      <td>88.0</td>\n",
       "      <td>91.0</td>\n",
       "      <td>87.0</td>\n",
       "      <td>87.0</td>\n",
       "      <td>...</td>\n",
       "      <td>101.0</td>\n",
       "      <td>84.0</td>\n",
       "      <td>117.0</td>\n",
       "      <td>NaN</td>\n",
       "      <td>97.0</td>\n",
       "      <td>87.0</td>\n",
       "      <td>74.0</td>\n",
       "      <td>94.0</td>\n",
       "      <td>112.0</td>\n",
       "      <td>109.0</td>\n",
       "    </tr>\n",
       "    <tr>\n",
       "      <th>2014-05-01 02:00:00</th>\n",
       "      <td>124.0</td>\n",
       "      <td>85.0</td>\n",
       "      <td>121.0</td>\n",
       "      <td>107.0</td>\n",
       "      <td>101.0</td>\n",
       "      <td>99.0</td>\n",
       "      <td>105.0</td>\n",
       "      <td>102.0</td>\n",
       "      <td>103.0</td>\n",
       "      <td>94.0</td>\n",
       "      <td>...</td>\n",
       "      <td>100.0</td>\n",
       "      <td>77.0</td>\n",
       "      <td>109.0</td>\n",
       "      <td>78.0</td>\n",
       "      <td>97.0</td>\n",
       "      <td>84.0</td>\n",
       "      <td>84.0</td>\n",
       "      <td>101.0</td>\n",
       "      <td>123.0</td>\n",
       "      <td>114.0</td>\n",
       "    </tr>\n",
       "    <tr>\n",
       "      <th>2014-05-01 03:00:00</th>\n",
       "      <td>127.0</td>\n",
       "      <td>88.0</td>\n",
       "      <td>130.0</td>\n",
       "      <td>115.0</td>\n",
       "      <td>102.0</td>\n",
       "      <td>109.0</td>\n",
       "      <td>114.0</td>\n",
       "      <td>108.0</td>\n",
       "      <td>112.0</td>\n",
       "      <td>109.0</td>\n",
       "      <td>...</td>\n",
       "      <td>103.0</td>\n",
       "      <td>90.0</td>\n",
       "      <td>105.0</td>\n",
       "      <td>77.0</td>\n",
       "      <td>103.0</td>\n",
       "      <td>83.0</td>\n",
       "      <td>100.0</td>\n",
       "      <td>112.0</td>\n",
       "      <td>143.0</td>\n",
       "      <td>126.0</td>\n",
       "    </tr>\n",
       "    <tr>\n",
       "      <th>2014-05-01 04:00:00</th>\n",
       "      <td>129.0</td>\n",
       "      <td>100.0</td>\n",
       "      <td>137.0</td>\n",
       "      <td>123.0</td>\n",
       "      <td>108.0</td>\n",
       "      <td>118.0</td>\n",
       "      <td>118.0</td>\n",
       "      <td>109.0</td>\n",
       "      <td>117.0</td>\n",
       "      <td>111.0</td>\n",
       "      <td>...</td>\n",
       "      <td>110.0</td>\n",
       "      <td>94.0</td>\n",
       "      <td>105.0</td>\n",
       "      <td>90.0</td>\n",
       "      <td>107.0</td>\n",
       "      <td>88.0</td>\n",
       "      <td>103.0</td>\n",
       "      <td>120.0</td>\n",
       "      <td>138.0</td>\n",
       "      <td>130.0</td>\n",
       "    </tr>\n",
       "    <tr>\n",
       "      <th>2014-05-01 05:00:00</th>\n",
       "      <td>119.0</td>\n",
       "      <td>109.0</td>\n",
       "      <td>144.0</td>\n",
       "      <td>129.0</td>\n",
       "      <td>115.0</td>\n",
       "      <td>124.0</td>\n",
       "      <td>130.0</td>\n",
       "      <td>116.0</td>\n",
       "      <td>124.0</td>\n",
       "      <td>114.0</td>\n",
       "      <td>...</td>\n",
       "      <td>105.0</td>\n",
       "      <td>80.0</td>\n",
       "      <td>104.0</td>\n",
       "      <td>83.0</td>\n",
       "      <td>111.0</td>\n",
       "      <td>85.0</td>\n",
       "      <td>108.0</td>\n",
       "      <td>125.0</td>\n",
       "      <td>145.0</td>\n",
       "      <td>137.0</td>\n",
       "    </tr>\n",
       "    <tr>\n",
       "      <th>...</th>\n",
       "      <td>...</td>\n",
       "      <td>...</td>\n",
       "      <td>...</td>\n",
       "      <td>...</td>\n",
       "      <td>...</td>\n",
       "      <td>...</td>\n",
       "      <td>...</td>\n",
       "      <td>...</td>\n",
       "      <td>...</td>\n",
       "      <td>...</td>\n",
       "      <td>...</td>\n",
       "      <td>...</td>\n",
       "      <td>...</td>\n",
       "      <td>...</td>\n",
       "      <td>...</td>\n",
       "      <td>...</td>\n",
       "      <td>...</td>\n",
       "      <td>...</td>\n",
       "      <td>...</td>\n",
       "      <td>...</td>\n",
       "      <td>...</td>\n",
       "    </tr>\n",
       "    <tr>\n",
       "      <th>2015-04-30 19:00:00</th>\n",
       "      <td>86.0</td>\n",
       "      <td>72.0</td>\n",
       "      <td>70.0</td>\n",
       "      <td>72.0</td>\n",
       "      <td>73.0</td>\n",
       "      <td>63.0</td>\n",
       "      <td>65.0</td>\n",
       "      <td>69.0</td>\n",
       "      <td>74.0</td>\n",
       "      <td>66.0</td>\n",
       "      <td>...</td>\n",
       "      <td>130.0</td>\n",
       "      <td>136.0</td>\n",
       "      <td>79.0</td>\n",
       "      <td>69.0</td>\n",
       "      <td>74.0</td>\n",
       "      <td>125.0</td>\n",
       "      <td>94.0</td>\n",
       "      <td>67.0</td>\n",
       "      <td>64.0</td>\n",
       "      <td>79.0</td>\n",
       "    </tr>\n",
       "    <tr>\n",
       "      <th>2015-04-30 20:00:00</th>\n",
       "      <td>87.0</td>\n",
       "      <td>73.0</td>\n",
       "      <td>73.0</td>\n",
       "      <td>76.0</td>\n",
       "      <td>83.0</td>\n",
       "      <td>63.0</td>\n",
       "      <td>61.0</td>\n",
       "      <td>62.0</td>\n",
       "      <td>62.0</td>\n",
       "      <td>68.0</td>\n",
       "      <td>...</td>\n",
       "      <td>133.0</td>\n",
       "      <td>124.0</td>\n",
       "      <td>64.0</td>\n",
       "      <td>67.0</td>\n",
       "      <td>75.0</td>\n",
       "      <td>124.0</td>\n",
       "      <td>128.0</td>\n",
       "      <td>103.0</td>\n",
       "      <td>69.0</td>\n",
       "      <td>77.0</td>\n",
       "    </tr>\n",
       "    <tr>\n",
       "      <th>2015-04-30 21:00:00</th>\n",
       "      <td>80.0</td>\n",
       "      <td>74.0</td>\n",
       "      <td>80.0</td>\n",
       "      <td>70.0</td>\n",
       "      <td>84.0</td>\n",
       "      <td>69.0</td>\n",
       "      <td>72.0</td>\n",
       "      <td>75.0</td>\n",
       "      <td>77.0</td>\n",
       "      <td>73.0</td>\n",
       "      <td>...</td>\n",
       "      <td>117.0</td>\n",
       "      <td>123.0</td>\n",
       "      <td>72.0</td>\n",
       "      <td>70.0</td>\n",
       "      <td>82.0</td>\n",
       "      <td>125.0</td>\n",
       "      <td>139.0</td>\n",
       "      <td>166.0</td>\n",
       "      <td>78.0</td>\n",
       "      <td>94.0</td>\n",
       "    </tr>\n",
       "    <tr>\n",
       "      <th>2015-04-30 22:00:00</th>\n",
       "      <td>NaN</td>\n",
       "      <td>NaN</td>\n",
       "      <td>87.0</td>\n",
       "      <td>NaN</td>\n",
       "      <td>NaN</td>\n",
       "      <td>76.0</td>\n",
       "      <td>79.0</td>\n",
       "      <td>NaN</td>\n",
       "      <td>82.0</td>\n",
       "      <td>NaN</td>\n",
       "      <td>...</td>\n",
       "      <td>178.0</td>\n",
       "      <td>NaN</td>\n",
       "      <td>NaN</td>\n",
       "      <td>74.0</td>\n",
       "      <td>NaN</td>\n",
       "      <td>NaN</td>\n",
       "      <td>NaN</td>\n",
       "      <td>NaN</td>\n",
       "      <td>NaN</td>\n",
       "      <td>NaN</td>\n",
       "    </tr>\n",
       "    <tr>\n",
       "      <th>2015-04-30 23:00:00</th>\n",
       "      <td>79.0</td>\n",
       "      <td>73.0</td>\n",
       "      <td>93.0</td>\n",
       "      <td>77.0</td>\n",
       "      <td>80.0</td>\n",
       "      <td>73.0</td>\n",
       "      <td>131.0</td>\n",
       "      <td>74.0</td>\n",
       "      <td>82.0</td>\n",
       "      <td>94.0</td>\n",
       "      <td>...</td>\n",
       "      <td>208.0</td>\n",
       "      <td>178.0</td>\n",
       "      <td>79.0</td>\n",
       "      <td>87.0</td>\n",
       "      <td>80.0</td>\n",
       "      <td>147.0</td>\n",
       "      <td>164.0</td>\n",
       "      <td>244.0</td>\n",
       "      <td>94.0</td>\n",
       "      <td>88.0</td>\n",
       "    </tr>\n",
       "  </tbody>\n",
       "</table>\n",
       "<p>5831 rows × 36 columns</p>\n",
       "</div>"
      ],
      "text/plain": [
       "                     001001  001002  001003  001004  001005  001006  001007  \\\n",
       "datetime                                                                      \n",
       "2014-05-01 01:00:00   138.0    89.0   105.0    98.0   109.0    87.0    88.0   \n",
       "2014-05-01 02:00:00   124.0    85.0   121.0   107.0   101.0    99.0   105.0   \n",
       "2014-05-01 03:00:00   127.0    88.0   130.0   115.0   102.0   109.0   114.0   \n",
       "2014-05-01 04:00:00   129.0   100.0   137.0   123.0   108.0   118.0   118.0   \n",
       "2014-05-01 05:00:00   119.0   109.0   144.0   129.0   115.0   124.0   130.0   \n",
       "...                     ...     ...     ...     ...     ...     ...     ...   \n",
       "2015-04-30 19:00:00    86.0    72.0    70.0    72.0    73.0    63.0    65.0   \n",
       "2015-04-30 20:00:00    87.0    73.0    73.0    76.0    83.0    63.0    61.0   \n",
       "2015-04-30 21:00:00    80.0    74.0    80.0    70.0    84.0    69.0    72.0   \n",
       "2015-04-30 22:00:00     NaN     NaN    87.0     NaN     NaN    76.0    79.0   \n",
       "2015-04-30 23:00:00    79.0    73.0    93.0    77.0    80.0    73.0   131.0   \n",
       "\n",
       "                     001008  001009  001010  ...  001027  001028  001029  \\\n",
       "datetime                                     ...                           \n",
       "2014-05-01 01:00:00    91.0    87.0    87.0  ...   101.0    84.0   117.0   \n",
       "2014-05-01 02:00:00   102.0   103.0    94.0  ...   100.0    77.0   109.0   \n",
       "2014-05-01 03:00:00   108.0   112.0   109.0  ...   103.0    90.0   105.0   \n",
       "2014-05-01 04:00:00   109.0   117.0   111.0  ...   110.0    94.0   105.0   \n",
       "2014-05-01 05:00:00   116.0   124.0   114.0  ...   105.0    80.0   104.0   \n",
       "...                     ...     ...     ...  ...     ...     ...     ...   \n",
       "2015-04-30 19:00:00    69.0    74.0    66.0  ...   130.0   136.0    79.0   \n",
       "2015-04-30 20:00:00    62.0    62.0    68.0  ...   133.0   124.0    64.0   \n",
       "2015-04-30 21:00:00    75.0    77.0    73.0  ...   117.0   123.0    72.0   \n",
       "2015-04-30 22:00:00     NaN    82.0     NaN  ...   178.0     NaN     NaN   \n",
       "2015-04-30 23:00:00    74.0    82.0    94.0  ...   208.0   178.0    79.0   \n",
       "\n",
       "                     001030  001031  001032  001033  001034  001035  001036  \n",
       "datetime                                                                     \n",
       "2014-05-01 01:00:00     NaN    97.0    87.0    74.0    94.0   112.0   109.0  \n",
       "2014-05-01 02:00:00    78.0    97.0    84.0    84.0   101.0   123.0   114.0  \n",
       "2014-05-01 03:00:00    77.0   103.0    83.0   100.0   112.0   143.0   126.0  \n",
       "2014-05-01 04:00:00    90.0   107.0    88.0   103.0   120.0   138.0   130.0  \n",
       "2014-05-01 05:00:00    83.0   111.0    85.0   108.0   125.0   145.0   137.0  \n",
       "...                     ...     ...     ...     ...     ...     ...     ...  \n",
       "2015-04-30 19:00:00    69.0    74.0   125.0    94.0    67.0    64.0    79.0  \n",
       "2015-04-30 20:00:00    67.0    75.0   124.0   128.0   103.0    69.0    77.0  \n",
       "2015-04-30 21:00:00    70.0    82.0   125.0   139.0   166.0    78.0    94.0  \n",
       "2015-04-30 22:00:00    74.0     NaN     NaN     NaN     NaN     NaN     NaN  \n",
       "2015-04-30 23:00:00    87.0    80.0   147.0   164.0   244.0    94.0    88.0  \n",
       "\n",
       "[5831 rows x 36 columns]"
      ]
     },
     "execution_count": 9,
     "metadata": {},
     "output_type": "execute_result"
    }
   ],
   "source": [
    "test_month = [3, 6, 9, 12]\n",
    "for i in test_month:\n",
    "    df = df[df.index.month != i]\n",
    "    \n",
    "df"
   ]
  },
  {
   "cell_type": "code",
   "execution_count": null,
   "id": "92ce56ea-f1b2-4b41-ad90-12f059100196",
   "metadata": {},
   "outputs": [],
   "source": [
    "    def create_normalizer_pm25():\n",
    "        df = pd.read_csv(\n",
    "            \"./data/pm25/Code/STMVL/SampleData/pm25_ground.txt\",\n",
    "            index_col=\"datetime\",\n",
    "            parse_dates=True,\n",
    "        )\n",
    "        test_month = [3, 6, 9, 12]\n",
    "        for i in test_month:\n",
    "            df = df[df.index.month != i]\n",
    "        mean = df.describe().loc[\"mean\"].values\n",
    "        std = df.describe().loc[\"std\"].values\n",
    "        path = \"./data/pm25/pm25_meanstd.pk\"\n",
    "        with open(path, \"wb\") as f:\n",
    "            pickle.dump([mean, std], f)\n",
    "    create_normalizer_pm25()"
   ]
  },
  {
   "cell_type": "code",
   "execution_count": 2,
   "id": "cb2c265f-de33-474e-8935-579c0a220ed7",
   "metadata": {
    "tags": []
   },
   "outputs": [],
   "source": [
    "\n",
    "import pandas as pd\n",
    "# Set some configurations for displaying tables nicely\n",
    "pd.set_option(\"display.max_colwidth\", 200)\n",
    "pd.set_option(\"display.max_rows\", None)"
   ]
  },
  {
   "cell_type": "code",
   "execution_count": 7,
   "id": "4c2a9e90-0e64-4646-a141-ad28051e9a73",
   "metadata": {
    "tags": []
   },
   "outputs": [],
   "source": [
    "from dataset_physio import get_dataloader, parse_id"
   ]
  },
  {
   "cell_type": "code",
   "execution_count": 8,
   "id": "eef097ea-ab45-4e14-ac36-a133e4471202",
   "metadata": {
    "tags": []
   },
   "outputs": [],
   "source": [
    "id_ = 132539\n",
    "missing_ratio = 0.1\n",
    "observed_values, observed_masks, gt_masks = parse_id(\n",
    "                        id_, missing_ratio\n",
    "                    )"
   ]
  },
  {
   "cell_type": "code",
   "execution_count": 17,
   "id": "74d607a9-6443-48ed-b730-d604cf7e291e",
   "metadata": {
    "tags": []
   },
   "outputs": [
    {
     "name": "stdout",
     "output_type": "stream",
     "text": [
      "     0     1      2    3     4    5     6    7    8    9   ...     25   26  \\\n",
      "0   0.0  77.0    0.0  0.0  58.0  0.0   0.0  0.0  0.0  0.0  ...  157.0  0.0   \n",
      "1   0.0  60.0    0.0  0.0  62.0  0.0   0.0  0.0  0.0  0.0  ...  137.0  0.0   \n",
      "2   0.0  62.0    0.0  0.0  52.0  0.0   0.0  0.0  0.0  0.0  ...  123.0  0.0   \n",
      "3   0.0  80.0    0.0  0.0  52.0  0.0   0.0  0.0  0.0  0.0  ...  114.0  0.0   \n",
      "4   0.0  74.0    0.0  0.0   0.0  0.0   0.0  0.0  0.0  0.0  ...    0.0  0.0   \n",
      "5   0.0  73.0    0.0  0.0  45.0  0.0   0.0  0.0  0.0  0.0  ...  110.0  0.0   \n",
      "6   0.0   0.0    0.0  0.0   0.0  0.0   0.0  0.0  0.0  0.0  ...    0.0  0.0   \n",
      "7   0.0  64.0    0.0  0.0  49.0  0.0   0.0  0.0  0.0  0.0  ...  107.0  0.0   \n",
      "8   0.0  64.0    0.0  0.0  56.0  0.0   0.0  0.0  0.0  0.0  ...  102.0  0.0   \n",
      "9   0.0  66.0    0.0  0.0  48.0  0.0   0.0  0.0  0.0  0.0  ...  114.0  0.0   \n",
      "10  0.0  61.0  137.0  0.0  62.0  0.0  11.2  0.0  0.0  0.0  ...  109.0  0.0   \n",
      "11  0.0  58.0    0.0  0.0  40.0  0.0   0.0  0.0  0.0  0.0  ...  101.0  0.0   \n",
      "12  0.0  58.0    0.0  0.0  40.0  0.0   0.0  0.0  0.0  0.0  ...  100.0  0.0   \n",
      "13  0.0  60.0    0.0  0.0  47.0  0.0   0.0  0.0  0.0  0.0  ...  104.0  0.0   \n",
      "14  0.0  63.0    0.0  0.0   0.0  0.0   0.0  0.0  0.0  0.0  ...    0.0  0.0   \n",
      "15  0.0  69.0    0.0  0.0  49.0  0.0   0.0  0.0  0.0  0.0  ...  112.0  0.0   \n",
      "16  0.0  61.0    0.0  0.0  40.0  0.0   0.0  0.0  0.0  0.0  ...   96.0  0.0   \n",
      "17  0.0  65.0    0.0  0.0  43.0  0.0   0.0  0.0  0.0  0.0  ...   98.0  0.0   \n",
      "18  0.0  77.0    0.0  0.0   0.0  0.0   0.0  0.0  0.0  0.0  ...    0.0  0.0   \n",
      "19  0.0  60.0    0.0  0.0  55.0  0.0   0.0  0.0  0.0  0.0  ...  114.0  0.0   \n",
      "20  0.0  62.0    0.0  0.0   0.0  0.0   0.0  0.0  0.0  0.0  ...    0.0  0.0   \n",
      "21  0.0  73.0    0.0  0.0  44.0  0.0   0.0  0.0  0.0  0.0  ...  102.0  0.0   \n",
      "22  0.0  66.0    0.0  0.0  42.0  0.0   0.0  0.0  0.0  0.0  ...  104.0  0.0   \n",
      "23  0.0  71.0    0.0  0.0  41.0  0.0   0.0  0.0  0.0  0.0  ...  103.0  0.0   \n",
      "24  0.0   0.0    0.0  0.0   0.0  0.0   0.0  0.0  0.0  0.0  ...    0.0  0.0   \n",
      "25  0.0  67.0    0.0  0.0  48.0  0.0   0.0  0.0  0.0  0.0  ...  105.0  0.0   \n",
      "26  0.0   0.0    0.0  0.0   0.0  0.0   0.0  0.0  0.0  0.0  ...    0.0  0.0   \n",
      "27  0.0  80.0    0.0  0.0  39.0  0.0   0.0  0.0  0.0  0.0  ...  104.0  0.0   \n",
      "28  0.0   0.0    0.0  0.0   0.0  0.0   0.0  0.0  0.0  0.0  ...    0.0  0.0   \n",
      "29  0.0  80.0    0.0  0.0  41.0  0.0   0.0  0.0  0.0  0.0  ...  108.0  0.0   \n",
      "30  0.0   0.0    0.0  0.0   0.0  0.0   0.0  0.0  0.0  0.0  ...    0.0  0.0   \n",
      "31  0.0  78.0    0.0  0.0  43.0  0.0   0.0  0.0  0.0  0.0  ...  109.0  0.0   \n",
      "32  0.0   0.0    0.0  0.0   0.0  0.0   0.0  0.0  0.0  0.0  ...    0.0  0.0   \n",
      "33  0.0  85.0  136.0  0.0  46.0  0.0   9.4  0.0  0.0  0.0  ...  113.0  0.0   \n",
      "34  0.0   0.0    0.0  0.0   0.0  0.0   0.0  0.0  0.0  0.0  ...    0.0  0.0   \n",
      "35  0.0  83.0    0.0  0.0  49.0  0.0   0.0  0.0  0.0  0.0  ...  129.0  0.0   \n",
      "36  0.0   0.0    0.0  0.0   0.0  0.0   0.0  0.0  0.0  0.0  ...    0.0  0.0   \n",
      "37  0.0  84.0    0.0  0.0  47.0  0.0   0.0  0.0  0.0  0.0  ...  117.0  0.0   \n",
      "38  0.0   0.0    0.0  0.0   0.0  0.0   0.0  0.0  0.0  0.0  ...    0.0  0.0   \n",
      "39  0.0  73.0    0.0  0.0  57.0  0.0   0.0  0.0  0.0  0.0  ...  122.0  0.0   \n",
      "40  0.0  77.0    0.0  0.0  53.0  0.0   0.0  0.0  0.0  0.0  ...  110.0  0.0   \n",
      "41  0.0  73.0    0.0  0.0  50.0  0.0   0.0  0.0  0.0  0.0  ...  109.0  0.0   \n",
      "42  0.0   0.0    0.0  0.0  67.0  0.0   0.0  0.0  0.0  0.0  ...  129.0  0.0   \n",
      "43  0.0  73.0    0.0  0.0  64.0  0.0   0.0  0.0  0.0  0.0  ...  120.0  0.0   \n",
      "44  0.0   0.0    0.0  0.0   0.0  0.0   0.0  0.0  0.0  0.0  ...    0.0  0.0   \n",
      "45  0.0  84.0    0.0  0.0  56.0  0.0   0.0  0.0  0.0  0.0  ...  132.0  0.0   \n",
      "46  0.0   0.0    0.0  0.0   0.0  0.0   0.0  0.0  0.0  0.0  ...    0.0  0.0   \n",
      "47  0.0  86.0    0.0  0.0  55.0  0.0   0.0  0.0  0.0  0.0  ...  128.0  0.0   \n",
      "\n",
      "     27   28   29     30     31     32   33   34  \n",
      "0   0.0  0.0  0.0    0.0   60.0  91.00  0.0  0.0  \n",
      "1   0.0  0.0  0.0    0.0   30.0  87.00  0.0  0.0  \n",
      "2   0.0  0.0  0.0    0.0  170.0  75.67  0.0  0.0  \n",
      "3   0.0  0.0  0.0    0.0   60.0  72.67  0.0  0.0  \n",
      "4   0.0  0.0  0.0    0.0    0.0   0.00  0.0  0.0  \n",
      "5   0.0  0.0  0.0    0.0  170.0  66.67  0.0  0.0  \n",
      "6   0.0  0.0  0.0    0.0    0.0   0.00  0.0  0.0  \n",
      "7   0.0  0.0  0.0    0.0  120.0  68.33  0.0  0.0  \n",
      "8   0.0  0.0  0.0    0.0   80.0  71.33  0.0  0.0  \n",
      "9   0.0  0.0  0.0    0.0  100.0  70.00  0.0  0.0  \n",
      "10  0.0  0.0  0.0  221.0   60.0  77.67  0.8  0.0  \n",
      "11  0.0  0.0  0.0    0.0   80.0  60.33  0.0  0.0  \n",
      "12  0.0  0.0  0.0    0.0   50.0  60.00  0.0  0.0  \n",
      "13  0.0  0.0  0.0    0.0   60.0  66.00  0.0  0.0  \n",
      "14  0.0  0.0  0.0    0.0    0.0   0.00  0.0  0.0  \n",
      "15  0.0  0.0  0.0    0.0  120.0  70.00  0.0  0.0  \n",
      "16  0.0  0.0  0.0    0.0    0.0  58.67  0.0  0.0  \n",
      "17  0.0  0.0  0.0    0.0  140.0  61.33  0.0  0.0  \n",
      "18  0.0  0.0  0.0    0.0    0.0   0.00  0.0  0.0  \n",
      "19  0.0  0.0  0.0    0.0   80.0  74.67  0.0  0.0  \n",
      "20  0.0  0.0  0.0    0.0    0.0   0.00  0.0  0.0  \n",
      "21  0.0  0.0  0.0    0.0   70.0  63.33  0.0  0.0  \n",
      "22  0.0  0.0  0.0    0.0   80.0  62.67  0.0  0.0  \n",
      "23  0.0  0.0  0.0    0.0   40.0  61.67  0.0  0.0  \n",
      "24  0.0  0.0  0.0    0.0  100.0   0.00  0.0  0.0  \n",
      "25  0.0  0.0  0.0    0.0  130.0  67.00  0.0  0.0  \n",
      "26  0.0  0.0  0.0    0.0    0.0   0.00  0.0  0.0  \n",
      "27  0.0  0.0  0.0    0.0    0.0  60.67  0.0  0.0  \n",
      "28  0.0  0.0  0.0    0.0   80.0   0.00  0.0  0.0  \n",
      "29  0.0  0.0  0.0    0.0  100.0  63.33  0.0  0.0  \n",
      "30  0.0  0.0  0.0    0.0  450.0   0.00  0.0  0.0  \n",
      "31  0.0  0.0  0.0    0.0  220.0  65.00  0.0  0.0  \n",
      "32  0.0  0.0  0.0    0.0  210.0   0.00  0.0  0.0  \n",
      "33  0.0  0.0  0.0  185.0  240.0  68.33  0.7  0.0  \n",
      "34  0.0  0.0  0.0    0.0  100.0   0.00  0.0  0.0  \n",
      "35  0.0  0.0  0.0    0.0  100.0  75.67  0.0  0.0  \n",
      "36  0.0  0.0  0.0    0.0   50.0   0.00  0.0  0.0  \n",
      "37  0.0  0.0  0.0    0.0  120.0  70.33  0.0  0.0  \n",
      "38  0.0  0.0  0.0    0.0    0.0   0.00  0.0  0.0  \n",
      "39  0.0  0.0  0.0    0.0  450.0  78.67  0.0  0.0  \n",
      "40  0.0  0.0  0.0    0.0    0.0  72.00  0.0  0.0  \n",
      "41  0.0  0.0  0.0    0.0  450.0  69.67  0.0  0.0  \n",
      "42  0.0  0.0  0.0    0.0    0.0  87.67  0.0  0.0  \n",
      "43  0.0  0.0  0.0    0.0  250.0  82.67  0.0  0.0  \n",
      "44  0.0  0.0  0.0    0.0    0.0   0.00  0.0  0.0  \n",
      "45  0.0  0.0  0.0    0.0  300.0  81.33  0.0  0.0  \n",
      "46  0.0  0.0  0.0    0.0    0.0   0.00  0.0  0.0  \n",
      "47  0.0  0.0  0.0    0.0  280.0  79.33  0.0  0.0  \n",
      "\n",
      "[48 rows x 35 columns]\n"
     ]
    }
   ],
   "source": [
    "print(pd.DataFrame(observed_values))"
   ]
  },
  {
   "cell_type": "code",
   "execution_count": 10,
   "id": "2eee6382-de42-4254-bea8-b238b4cc4309",
   "metadata": {
    "tags": []
   },
   "outputs": [
    {
     "data": {
      "text/plain": [
       "array([[0., 1., 0., ..., 1., 0., 0.],\n",
       "       [0., 1., 0., ..., 1., 0., 0.],\n",
       "       [0., 1., 0., ..., 1., 0., 0.],\n",
       "       ...,\n",
       "       [0., 1., 0., ..., 1., 0., 0.],\n",
       "       [0., 0., 0., ..., 0., 0., 0.],\n",
       "       [0., 1., 0., ..., 1., 0., 0.]], dtype=float32)"
      ]
     },
     "execution_count": 10,
     "metadata": {},
     "output_type": "execute_result"
    }
   ],
   "source": [
    "observed_masks"
   ]
  },
  {
   "cell_type": "code",
   "execution_count": 11,
   "id": "494e3e4c-f904-46de-8a8a-3d9c0fc26923",
   "metadata": {
    "tags": []
   },
   "outputs": [
    {
     "data": {
      "text/plain": [
       "array([[0., 0., 0., ..., 1., 0., 0.],\n",
       "       [0., 1., 0., ..., 0., 0., 0.],\n",
       "       [0., 1., 0., ..., 1., 0., 0.],\n",
       "       ...,\n",
       "       [0., 1., 0., ..., 1., 0., 0.],\n",
       "       [0., 0., 0., ..., 0., 0., 0.],\n",
       "       [0., 1., 0., ..., 1., 0., 0.]], dtype=float32)"
      ]
     },
     "execution_count": 11,
     "metadata": {},
     "output_type": "execute_result"
    }
   ],
   "source": [
    "gt_masks"
   ]
  },
  {
   "cell_type": "code",
   "execution_count": null,
   "id": "c2c5277b-706f-436a-b579-1540ccee359b",
   "metadata": {},
   "outputs": [],
   "source": []
  },
  {
   "cell_type": "code",
   "execution_count": null,
   "id": "cc4a934d-a6ef-4bf1-8c9c-db02443778b0",
   "metadata": {},
   "outputs": [],
   "source": []
  },
  {
   "cell_type": "code",
   "execution_count": null,
   "id": "06808f23-84a4-4384-bcca-e95bd0e5fba4",
   "metadata": {},
   "outputs": [],
   "source": []
  },
  {
   "cell_type": "code",
   "execution_count": null,
   "id": "b38061c6-cbb6-4e18-869f-8fc158427e98",
   "metadata": {},
   "outputs": [],
   "source": []
  },
  {
   "cell_type": "code",
   "execution_count": null,
   "id": "f135b839-2f6a-4b0e-b92d-cef13cd8f0ea",
   "metadata": {},
   "outputs": [],
   "source": [
    "\n",
    "C:\\Users\\fuad>cd Documents\\GitHub\\CSDI\n",
    "cd Documents\\GitHub\\CSDI\n",
    "\n",
    "python exe_physio.py --testmissingratio [missing ratio] --nsample [number of samples]\n",
    "python exe_physio.py --nsample 1000\n",
    "python exe_physio.py"
   ]
  }
 ],
 "metadata": {
  "kernelspec": {
   "display_name": "Python 3 (ipykernel)",
   "language": "python",
   "name": "python3"
  },
  "language_info": {
   "codemirror_mode": {
    "name": "ipython",
    "version": 3
   },
   "file_extension": ".py",
   "mimetype": "text/x-python",
   "name": "python",
   "nbconvert_exporter": "python",
   "pygments_lexer": "ipython3",
   "version": "3.11.5"
  }
 },
 "nbformat": 4,
 "nbformat_minor": 5
}
